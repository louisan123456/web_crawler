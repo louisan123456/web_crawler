{
 "cells": [
  {
   "cell_type": "code",
   "execution_count": 19,
   "metadata": {},
   "outputs": [],
   "source": [
    "#　載入selenium相關套件\n",
    "from selenium import webdriver\n",
    "from selenium.webdriver.chrome.options import Options\n",
    "from selenium.webdriver.common.by import By\n",
    "import json\n",
    "from pathlib import Path\n",
    "base_path = Path(r'%notebook').absolute().parent.parent.parent\n",
    "with open(fr\"{base_path}\\config.json\", \"r\") as f:\n",
    "    config = json.load(f)"
   ]
  },
  {
   "cell_type": "code",
   "execution_count": 20,
   "metadata": {},
   "outputs": [],
   "source": [
    "# 設定chrome driver的執行入徑\n",
    "options = Options()\n",
    "options.chrome_executable_path = config['path']['chromedriver']"
   ]
  },
  {
   "cell_type": "code",
   "execution_count": 25,
   "metadata": {},
   "outputs": [
    {
     "name": "stdout",
     "output_type": "stream",
     "text": [
      "[新聞] 美銀 : 投資人全心信任聯準會 拋售現金\n",
      "Re: [請益] 美債\n",
      "[新聞] 大摩：銀行股獲利韌性強、股利優 首選中\n",
      "[公告] 股票板板規 v4.3 (2023/04/30 修正)\n",
      "[公告] 禁止未經申請的付費軟體之創作文\n",
      "[公告] 政治違規加重處分條款\n",
      "[閒聊] 2023/12/15 盤後閒聊\n",
      "[情報] 2323 中環 取得矽統普通股\n",
      "[請益] 持股分配建議\n",
      "[情報] 112/12/15 八大公股銀行買賣超排行\n",
      "[新聞] 《國際產業》讓晶片代工業務分家上市？英\n",
      "[新聞] 威盛集團IP能量爆發\n",
      "(已被laptic刪除) <goodjob123> 4-1 4-2-1\n",
      "(本文已被刪除) [goodjob123]\n",
      "Re: [請益] 要降息了，美債是不是送分題？\n",
      "Re: [標的] 系微 6231 微小多\n",
      "[標的] 3059 華晶科 隱藏版IP股？\n",
      "(本文已被刪除) [hongxxxxx]\n",
      "[情報] 1215 上市櫃外資投信買超金額排行\n",
      "[情報] 112年12月15日信用交易統計\n",
      "[新聞] 矽統否認要轉型IP公司\n",
      "[情報] 1215 上市櫃外資投信同買排行\n",
      "[新聞] 長榮股價創波段高 台驊帳面獲利逾6800萬\n",
      "[請益] 美債\n",
      "Re: [請益] GG這種操作有甚麼用意嗎?\n",
      "[新聞] 經貿辦：中國片面停止ECFA諮商 違反WTO\n",
      "[新聞] 焦點股》英業達：隔日沖賣壓出籠 高檔爆\n"
     ]
    }
   ],
   "source": [
    "# 建立driver物件實體\n",
    "driver = webdriver.Chrome(options = options)\n",
    "# 連線到ptt股票版\n",
    "driver.get(\"https://www.ptt.cc/bbs/Stock/index.html\")\n",
    "# 抓出文章標題\n",
    "tags = driver.find_elements(By.CLASS_NAME, \"title\") #搜尋class屬性是title的所有標籤\n",
    "for tag in tags:\n",
    "    print(tag.text)\n",
    "\n",
    "# 按上一頁之後繼續抓文章標題\n",
    "link = driver.find_element(By.LINK_TEXT,\"‹ 上頁\")\n",
    "link.click()\n",
    "tags = driver.find_elements(By.CLASS_NAME, \"title\") #搜尋class屬性是title的所有標籤\n",
    "for tag in tags:\n",
    "    print(tag.text) \n",
    "driver.close()"
   ]
  },
  {
   "cell_type": "code",
   "execution_count": null,
   "metadata": {},
   "outputs": [],
   "source": []
  }
 ],
 "metadata": {
  "kernelspec": {
   "display_name": "Python 3",
   "language": "python",
   "name": "python3"
  },
  "language_info": {
   "codemirror_mode": {
    "name": "ipython",
    "version": 3
   },
   "file_extension": ".py",
   "mimetype": "text/x-python",
   "name": "python",
   "nbconvert_exporter": "python",
   "pygments_lexer": "ipython3",
   "version": "3.11.2"
  }
 },
 "nbformat": 4,
 "nbformat_minor": 2
}
