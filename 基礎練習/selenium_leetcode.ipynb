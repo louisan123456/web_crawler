{
 "cells": [
  {
   "cell_type": "code",
   "execution_count": 13,
   "metadata": {},
   "outputs": [],
   "source": [
    "#　載入selenium相關套件\n",
    "from selenium import webdriver\n",
    "from selenium.webdriver.chrome.options import Options\n",
    "from selenium.webdriver.common.by import By\n",
    "from selenium.webdriver.common.keys import Keys\n",
    "import time\n",
    "import json\n",
    "from pathlib import Path\n",
    "base_path = Path(r'%notebook').absolute().parent.parent.parent\n",
    "with open(fr\"{base_path}\\config.json\", \"r\") as f:\n",
    "    config = json.load(f)"
   ]
  },
  {
   "cell_type": "code",
   "execution_count": 39,
   "metadata": {},
   "outputs": [],
   "source": [
    "# 設定chrome driver的執行入徑\n",
    "options = Options()\n",
    "options.chrome_executable_path = config['path']['chromedriver']"
   ]
  },
  {
   "cell_type": "code",
   "execution_count": null,
   "metadata": {},
   "outputs": [],
   "source": [
    "# 建立driver物件實體\n",
    "driver = webdriver.Chrome(options = options)\n",
    "# 連線到leetcode的登入頁面\n",
    "driver.get(\"https://leetcode.com/accounts/login/\")\n",
    "time.sleep(3)\n",
    "# 輸入帳號密碼之後，按下登入按鈕\n",
    "usernameInput=driver.find_element(By.ID, \"id_login\")\n",
    "passwordInput = driver.find_element(By.ID, \"id_password\")\n",
    "time.sleep(1)\n",
    "usernameInput.send_keys(config[\"account\"][\"leetcode_username\"])\n",
    "time.sleep(1)\n",
    "passwordInput.send_keys(config[\"account\"][\"leetcode_password\"])\n",
    "time.sleep(2)\n",
    "signinBtn = driver.find_element(By.ID, \"signin_btn\")\n",
    "signinBtn.click() # 如果用send_keys(Keys.ENTER)會有機器人驗證的問題\n",
    "#等待登入完成\n",
    "time.sleep(10)\n",
    "# 登入之後取得想要資料的頁面\n",
    "driver.get(\"https://leetcode.com/problemset/\")\n",
    "time.sleep(3)\n",
    "stateelement = driver.find_element(By.CSS_SELECTOR, \"[data-difficulty=TOTAL]\")\n",
    "columns = stateelement.text.split('\\n')\n",
    "print(f\"目前完成{columns[1]}題\")\n",
    "driver.close()"
   ]
  }
 ],
 "metadata": {
  "kernelspec": {
   "display_name": "Python 3",
   "language": "python",
   "name": "python3"
  },
  "language_info": {
   "codemirror_mode": {
    "name": "ipython",
    "version": 3
   },
   "file_extension": ".py",
   "mimetype": "text/x-python",
   "name": "python",
   "nbconvert_exporter": "python",
   "pygments_lexer": "ipython3",
   "version": "3.11.2"
  }
 },
 "nbformat": 4,
 "nbformat_minor": 2
}
